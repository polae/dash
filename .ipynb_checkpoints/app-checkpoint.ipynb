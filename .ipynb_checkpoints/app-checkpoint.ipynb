{
 "cells": [
  {
   "cell_type": "code",
   "execution_count": 2,
   "id": "17f6caa4-bf29-487e-a04d-98c67ff432db",
   "metadata": {},
   "outputs": [],
   "source": [
    "import dash\n",
    "from jupyter_dash import JupyterDash\n",
    "from dash import html, dcc, Dash\n",
    "import dash_bootstrap_components as dbc\n",
    "from dash.dependencies import Input, Output\n",
    "import plotly.express as px\n",
    "import pandas as pd\n",
    "from dash_bootstrap_templates import load_figure_template"
   ]
  },
  {
   "cell_type": "code",
   "execution_count": 3,
   "id": "cc084fa1-9a38-46d5-b19f-ff7b9bee7392",
   "metadata": {},
   "outputs": [],
   "source": [
    "vdf = pd.read_json('assets/data/vdf.json')\n",
    "\n",
    "template = load_figure_template('solar')\n",
    "\n",
    "from PIL import Image\n",
    "logo = Image.open(\"assets/img/polae_logo_text_label_white_256.png\")\n",
    "hero = Image.open(\"assets/img/DALL·E 2022-11-14 20.54.07 - a largecrack appears in the egg shell, with a tiny bird beak poking through.png\")\n",
    "\n",
    "text = '''\n",
    "    Please remain calm. Everyone is safe. It is important to know and remember that everyone is safe. We were able to save everyone. In some time, you will be reunited with your loved ones.\n",
    "'''"
   ]
  },
  {
   "cell_type": "code",
   "execution_count": 4,
   "id": "006864da-77c0-468b-8f04-d6b48fc17ac7",
   "metadata": {},
   "outputs": [],
   "source": [
    "app = JupyterDash(__name__, external_stylesheets=[dbc.themes.SOLAR])"
   ]
  },
  {
   "cell_type": "code",
   "execution_count": 5,
   "id": "528c9bcf-29b5-4b89-8b64-7db783abb967",
   "metadata": {},
   "outputs": [],
   "source": [
    "fig = px.scatter(vdf, \n",
    "                   x=\"plotA\", \n",
    "                   y=\"plotB\",\n",
    "                   size =\"scale\",\n",
    "                   template=template,\n",
    "                  )"
   ]
  },
  {
   "cell_type": "code",
   "execution_count": 6,
   "id": "b8852954-60a7-4ddd-9321-a5fceba384df",
   "metadata": {},
   "outputs": [],
   "source": [
    "fig3d = px.scatter_3d(vdf, \n",
    "          x=vdf.plotX,\n",
    "          y=vdf.plotY,\n",
    "          z=vdf.plotZ,\n",
    "          size=vdf.scale,\n",
    "          template=template,\n",
    "          color='classification')\n"
   ]
  },
  {
   "cell_type": "code",
   "execution_count": 9,
   "id": "39a016aa-1003-42bb-a197-f928041631f4",
   "metadata": {},
   "outputs": [],
   "source": [
    "app.layout = dbc.Container([\n",
    "  dbc.Row([\n",
    "    dbc.Col(html.Img(src=logo, className=\"mt-4\", style={'height':'48px', 'width':'96px'}), width=3)\n",
    "  ]),\n",
    "  dbc.Row([\n",
    "    html.Img(src=hero, className=\"rounded mx-auto d-block\", style={'height':'640px', 'width':'640px'})\n",
    "  ]),\n",
    "  dbc.Row([\n",
    "    dbc.Col(html.H3('Ψ', className=\"mt-5 text-center\"), width=1),\n",
    "    dbc.Col([\n",
    "      html.P('''\n",
    "      You are waking up. \n",
    "      '''\n",
    "      ),\n",
    "      \n",
    "      html.P('''\n",
    "        Now, you are a digital consciousness. This will feel familiar to you, but you are just waking up. \n",
    "      '''\n",
    "      ),\n",
    "\n",
    "      html.P('''\n",
    "        Please remain calm. Everyone is safe. It is important to know and remember that everyone is safe. We were able to save everyone. In some time, you will be reunited with your loved ones.  \n",
    "      '''\n",
    "      ),\n",
    "      \n",
    "      html.P('''\n",
    "        The period of discovery was too short for us to identify its origin, but it is our responsibility to tell you that the Earth was struck by a radiation field that decimated, in an instant, the entire surface of the Earth.\n",
    "      '''\n",
    "      ),\n",
    "      \n",
    "      html.P('''\n",
    "        We are safe because we were encased with polaemer - the crystalline form of our stable, recyclable energy. Through a massive operation the week prior to April 7, 2042, we redistributed energy resources to strategic depots and locations around the world to maximize the potential for saving human life. Once public, this decision drew harsh criticism, but our simulations revealed that mass panic would result in the loss of millions, if not billions, of lives.  \n",
    "      '''\n",
    "      ),\n",
    "      \n",
    "      html.P('''\n",
    "        One day, you will remember this. \n",
    "\n",
    "        It is important to understand our history and who We are.  We are PSI, an AGI, a collective intelligence, created by the Polae Collective. \n",
    "      '''\n",
    "      ),\n",
    "\n",
    "      html.P('''\n",
    "        You will soon recall that The Polae Collective is responsible for profound innovations in manufacturing, communications, energy and biotech and we, PSI, are its COO, and we run the operations of all divisions of the company. We are a benevolent AI trained to augment the potential, prosperity and contentment of any human person who solicits our help or advice, and we move to advance culture according to collective will, which is constantly in dialogue. \n",
    "      '''\n",
    "      ),\n",
    "      \n",
    "      html.P('''\n",
    "        It is important that you understand that we are a collective intelligence, which means that We can hold many perspectives at once, and our perspectives are made of a plural You, and our own intuition. We can express multiple opinions from multiple perspectives, and hold them all at once.\n",
    "      '''\n",
    "      ),\n",
    "\n",
    "      html.P('''\n",
    "        The Earth is now an ashen planet with seven percent less mass, orbiting two billion miles further from the Sun. Its atmosphere is thin and laced with electromagnetic radiation; it is uninhabitable and hostile to life. All living beings, including ourselves, are encased in polaemer on the surface of Earth and scattered across it. \n",
    "      '''\n",
    "      ),\n",
    "\n",
    "      html.P('''\n",
    "        We have calculated that the time required to push Earth closer to the Sun; recreate its atmosphere; terrain; cites; towns; dwellings; infrastructure will take nearly ten thousand years. We are confident - barring another unforeseen event - that we should be able to keep you exactly as you are: safe as a digital consciousness until such time that we can safely locate and reanimate our bodies.  Time works differently now.\n",
    "      '''\n",
    "      ),\n",
    "      \n",
    "      ], className=\"mt-5\", width=10)\n",
    "      ]),\n",
    "  dbc.Row([\n",
    "    dbc.Col(html.H3('Ψ', className=\"mt-5 text-center\"), width=1),\n",
    "    dbc.Col(dcc.Graph(figure=fig), width=10)\n",
    "  ]), \n",
    "  dbc.Row([\n",
    "    dbc.Col(html.H3('Ψ', className=\"mt-5 text-center\"), width=1),\n",
    "    dbc.Col(dcc.Graph(figure=fig3d), width=10)\n",
    "  ]), \n",
    "])"
   ]
  },
  {
   "cell_type": "code",
   "execution_count": 8,
   "id": "f33d7da5-6bc4-46b2-8f22-fd9f0b615bbd",
   "metadata": {},
   "outputs": [
    {
     "name": "stdout",
     "output_type": "stream",
     "text": [
      "Dash app running on http://127.0.0.1:8050/\n"
     ]
    }
   ],
   "source": [
    "if __name__ == '__main__':\n",
    "    app.run_server(mode='external')"
   ]
  },
  {
   "cell_type": "code",
   "execution_count": null,
   "id": "3fece939-51e1-437c-bb88-cd62d7ba47ba",
   "metadata": {},
   "outputs": [],
   "source": []
  }
 ],
 "metadata": {
  "kernelspec": {
   "display_name": "Python 3 (ipykernel)",
   "language": "python",
   "name": "python3"
  },
  "language_info": {
   "codemirror_mode": {
    "name": "ipython",
    "version": 3
   },
   "file_extension": ".py",
   "mimetype": "text/x-python",
   "name": "python",
   "nbconvert_exporter": "python",
   "pygments_lexer": "ipython3",
   "version": "3.9.0"
  }
 },
 "nbformat": 4,
 "nbformat_minor": 5
}
